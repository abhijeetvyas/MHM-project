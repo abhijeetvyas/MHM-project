{
 "cells": [
  {
   "cell_type": "code",
   "execution_count": null,
   "metadata": {},
   "outputs": [],
   "source": [
    "def foot(F1x,F1y,theta,aplha,ax,ay,m,l,lc,I):\n",
    "    F2x=m*ax-F1x\n",
    "    F2y=m*9.81+m*ay-F1y\n",
    "    M2=(I+m*lc*lc)*aplha+F1y*cos(theta)*l-F1x*sin(theta)*l+m*9.81*cos(theta)*(l-lc)\n",
    "    return [F2x,F2y,M2]\n",
    "    "
   ]
  }
 ],
 "metadata": {
  "kernelspec": {
   "display_name": "Python 3",
   "language": "python",
   "name": "python3"
  },
  "language_info": {
   "codemirror_mode": {
    "name": "ipython",
    "version": 3
   },
   "file_extension": ".py",
   "mimetype": "text/x-python",
   "name": "python",
   "nbconvert_exporter": "python",
   "pygments_lexer": "ipython3",
   "version": "3.6.5"
  }
 },
 "nbformat": 4,
 "nbformat_minor": 2
}
