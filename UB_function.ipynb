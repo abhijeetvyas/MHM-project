{
 "cells": [
  {
   "cell_type": "code",
   "execution_count": 1,
   "metadata": {},
   "outputs": [],
   "source": [
    "def UpBod(F1x,F1y,M1,I,l,theta,mB,n):\n",
    "    for i in range(1,n):    \n",
    "        ax[i]=-F1x[i]/mB\n",
    "        ay[i]=-(mB*9.81+F1y[i])/mB\n",
    "        alpha[i]=-M1[i]/(I+mB*l*l)\n",
    "    return ax,ay,alpha"
   ]
  },
  {
   "cell_type": "code",
   "execution_count": null,
   "metadata": {},
   "outputs": [],
   "source": []
  }
 ],
 "metadata": {
  "kernelspec": {
   "display_name": "Python 3",
   "language": "python",
   "name": "python3"
  },
  "language_info": {
   "codemirror_mode": {
    "name": "ipython",
    "version": 3
   },
   "file_extension": ".py",
   "mimetype": "text/x-python",
   "name": "python",
   "nbconvert_exporter": "python",
   "pygments_lexer": "ipython3",
   "version": "3.6.5"
  }
 },
 "nbformat": 4,
 "nbformat_minor": 2
}
