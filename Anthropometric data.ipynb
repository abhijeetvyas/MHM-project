{
 "cells": [
  {
   "cell_type": "code",
   "execution_count": null,
   "metadata": {},
   "outputs": [],
   "source": [
    "def AnthroData(weight,height):\n",
    "    misc= ((7.8*9.6*9.6*49.5)+(46.84*31.6*31.6*50.3)+2*(2.7*16.4*16.4*32.3)+2*(2.7*13.7*13.7*30.3)+2*(0.6*8.2*8.2*29.7) #sum of Icm of all the upper body parts\n",
    "    data[0]= weight*67.2/100 #weight of UB\n",
    "    data[1]= height*14.2/100 #height of com of UB from hip \n",
    "    data[2]= data[0]*data[1]*data[1]+misc #moment for UB\n",
    "    data[3]= weight*9.9/100#weight of thigh\n",
    "    data[4]= height*25.4/100#height of thigh\n",
    "    data[5]= data[4]*43.3/100#height of com thigh\n",
    "    data[6]= data[3]*data[4]*data[4]*32.3/100#moment of thigh\n",
    "    data[7]= weight*4.6/100#weight of shank\n",
    "    data[8]= height*23.3/100#height of shank\n",
    "    data[9]= data[8]*43/100 #height of com shank\n",
    "    data[10]= data[7]*data[8]*data[8]*30.2/100 #moment of shank\n",
    "    data[11]= weight*1.4/100#weight of foot\n",
    "    data[12]= height*11.7/100 #height of foot\n",
    "    data[13]= data[12]*50/100 #height of com foot\n",
    "    data[14]= data[11]*data[12]*data[12]*47.5/100 #moment of foot\n",
    "    data[15]=weight*.361/100 #weight of toe\n",
    "    data[16]=height*3.53/100 #height of toe\n",
    "    data[17]=data[16]/2 #height of com of toe\n",
    "    data[18]=data[15]*data[16]*data[16]/12 #moment of toe\n",
    "    return data"
   ]
  }
 ],
 "metadata": {
  "kernelspec": {
   "display_name": "Python 3",
   "language": "python",
   "name": "python3"
  },
  "language_info": {
   "codemirror_mode": {
    "name": "ipython",
    "version": 3
   },
   "file_extension": ".py",
   "mimetype": "text/x-python",
   "name": "python",
   "nbconvert_exporter": "python",
   "pygments_lexer": "ipython3",
   "version": "3.6.5"
  }
 },
 "nbformat": 4,
 "nbformat_minor": 2
}
