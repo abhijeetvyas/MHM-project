{
 "cells": [
  {
   "cell_type": "code",
   "execution_count": 2,
   "metadata": {},
   "outputs": [],
   "source": [
    "import math\n",
    "        "
   ]
  },
  {
   "cell_type": "code",
   "execution_count": 6,
   "metadata": {},
   "outputs": [],
   "source": [
    "def IDlimb(Ax,Ay,MA,theta_s,omega_s,alpha_s,n,ms,Is,ls,lcs,ax,ay):\n",
    "    for i in range(1,n):\n",
    "        Kx[i]=Ax(i)+ms*ax(i);\n",
    "        Ky[i]=Ay(i)+ms*ay(i)+ms*9.81;\n",
    "        Mk[i]=MA(i)+Ax(i)*ls*sin(theta_s(i))-Ay(i)*ls*Cos(theta_s(i))-ms*9.81*lcs*Cos(theta_s(i))+(Is+ms*lcs^2)*alpha_s(i);\n",
    "    return Mk,Kx,Ky"
   ]
  },
  {
   "cell_type": "code",
   "execution_count": null,
   "metadata": {},
   "outputs": [],
   "source": []
  }
 ],
 "metadata": {
  "kernelspec": {
   "display_name": "Python 3",
   "language": "python",
   "name": "python3"
  },
  "language_info": {
   "codemirror_mode": {
    "name": "ipython",
    "version": 3
   },
   "file_extension": ".py",
   "mimetype": "text/x-python",
   "name": "python",
   "nbconvert_exporter": "python",
   "pygments_lexer": "ipython3",
   "version": "3.6.5"
  }
 },
 "nbformat": 4,
 "nbformat_minor": 2
}
