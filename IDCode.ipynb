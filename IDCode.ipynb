{
 "cells": [
  {
   "cell_type": "code",
   "execution_count": 3,
   "metadata": {},
   "outputs": [],
   "source": [
    "import dynamics"
   ]
  },
  {
   "cell_type": "markdown",
   "metadata": {},
   "source": [
    "The Inverse dynamics analysis is done by segmenting the body into foot, shank, thigh and the upper body is considered to be a lumped mass at the centre of mass of the upper body."
   ]
  },
  {
   "cell_type": "markdown",
   "metadata": {},
   "source": [
    "*add the fbd of the whole body*"
   ]
  },
  {
   "cell_type": "markdown",
   "metadata": {},
   "source": [
    "consider the foot"
   ]
  },
  {
   "cell_type": "markdown",
   "metadata": {},
   "source": [
    "*add the fbd of the foot*"
   ]
  },
  {
   "cell_type": "markdown",
   "metadata": {},
   "source": [
    "The kinetic diagram of the foot is as shown"
   ]
  },
  {
   "cell_type": "markdown",
   "metadata": {},
   "source": [
    "*add kinetic diagram of the foot*"
   ]
  },
  {
   "cell_type": "markdown",
   "metadata": {},
   "source": [
    "*add the equations here*"
   ]
  },
  {
   "cell_type": "code",
   "execution_count": 15,
   "metadata": {},
   "outputs": [],
   "source": [
    "#Ax,Ay,MA=IDfoot(Rx,Ry,theta_f,alpha_f,afx,afy,mf,lf,lcf,Icf,n)"
   ]
  },
  {
   "cell_type": "markdown",
   "metadata": {},
   "source": [
    "Consider the shank"
   ]
  },
  {
   "cell_type": "markdown",
   "metadata": {},
   "source": [
    "*add FBD of shank*"
   ]
  },
  {
   "cell_type": "markdown",
   "metadata": {},
   "source": [
    "*add kinetic diagram*"
   ]
  },
  {
   "cell_type": "code",
   "execution_count": 16,
   "metadata": {},
   "outputs": [],
   "source": [
    "#Kx,Ky,Mk=IDlimb(Ax,Ay,MA,theta_s,alpha_s,ms,Is,ls,lcs,asx,asy,n)"
   ]
  },
  {
   "cell_type": "markdown",
   "metadata": {},
   "source": [
    "consider the thigh"
   ]
  },
  {
   "cell_type": "markdown",
   "metadata": {},
   "source": [
    "*add FBD of thigh*"
   ]
  },
  {
   "cell_type": "markdown",
   "metadata": {},
   "source": [
    "*add kinetic diagram*"
   ]
  },
  {
   "cell_type": "code",
   "execution_count": 17,
   "metadata": {},
   "outputs": [],
   "source": [
    "#Hx,Hy,Mh=IDlimb(Kx,Ky,Mk,theta_t,alpha_t,mt,It,lt,lct,atx,aty,n)"
   ]
  },
  {
   "cell_type": "code",
   "execution_count": 18,
   "metadata": {},
   "outputs": [],
   "source": [
    "#filter the Joint forces and moments"
   ]
  },
  {
   "cell_type": "code",
   "execution_count": null,
   "metadata": {},
   "outputs": [],
   "source": []
  }
 ],
 "metadata": {
  "kernelspec": {
   "display_name": "Python 3",
   "language": "python",
   "name": "python3"
  },
  "language_info": {
   "codemirror_mode": {
    "name": "ipython",
    "version": 3
   },
   "file_extension": ".py",
   "mimetype": "text/x-python",
   "name": "python",
   "nbconvert_exporter": "python",
   "pygments_lexer": "ipython3",
   "version": "3.6.5"
  }
 },
 "nbformat": 4,
 "nbformat_minor": 2
}
