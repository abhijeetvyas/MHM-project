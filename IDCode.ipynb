{
 "cells": [
  {
   "cell_type": "markdown",
   "metadata": {},
   "source": [
    "The Inverse dynamics analysis is done by segmenting the body into foot, shank, thigh and the upper body is considered to be a lumped mass at the centre of mass of the upper body"
   ]
  },
  {
   "cell_type": "markdown",
   "metadata": {},
   "source": [
    "*add the fbd of the whole body*"
   ]
  },
  {
   "cell_type": "markdown",
   "metadata": {},
   "source": [
    "consider the foot"
   ]
  },
  {
   "cell_type": "markdown",
   "metadata": {},
   "source": [
    "*add the fbd of the foot*"
   ]
  },
  {
   "cell_type": "markdown",
   "metadata": {},
   "source": [
    "The kinetic diagram of the foot is as shown"
   ]
  },
  {
   "cell_type": "markdown",
   "metadata": {},
   "source": [
    "*add kinetic diagram of the foot*"
   ]
  },
  {
   "cell_type": "markdown",
   "metadata": {},
   "source": [
    "*add the equations here*"
   ]
  },
  {
   "cell_type": "code",
   "execution_count": 4,
   "metadata": {},
   "outputs": [],
   "source": [
    "import math\n",
    "import numpy as np\n",
    "import matplotlib\n",
    "import matplotlib.pyplot as plt"
   ]
  },
  {
   "cell_type": "code",
   "execution_count": 13,
   "metadata": {},
   "outputs": [],
   "source": [
    "def IDlimb(Ax,Ay,MA,theta_s,alpha_s,ms,Is,ls,lcs,ax,ay,n):\n",
    "    for i in range(1,n):\n",
    "        Kx[i]=Ax(i)+ms*ax(i);\n",
    "        Ky[i]=Ay(i)+ms*ay(i)+ms*9.81;\n",
    "        Mk[i]=MA(i)+Ax(i)*ls*sin(theta_s(i))-Ay(i)*ls*Cos(theta_s(i))-ms*9.81*lcs*Cos(theta_s(i))+(Is+ms*lcs^2)*alpha_s(i);\n",
    "    return Kx,Ky,Mk"
   ]
  },
  {
   "cell_type": "code",
   "execution_count": 9,
   "metadata": {},
   "outputs": [],
   "source": [
    "def IDfoot(F1x,F1y,theta,aplha,ax,ay,m,l,lc,I,n):\n",
    "    for i in range(1,n):\n",
    "        F2x[i]=m*ax[i]-F1x[1]\n",
    "        F2y[i]=m*9.81+m*ay[1]-F1y[1]\n",
    "        M2[i]=(I+m*lc*lc)*aplha[i]+F1y[i]*cos(theta[i])*l-F1x[i]*sin(theta[i])*l+m*9.81*cos(theta[i])*(l-lc)\n",
    "    return F2x,F2y,M2"
   ]
  },
  {
   "cell_type": "code",
   "execution_count": 15,
   "metadata": {},
   "outputs": [],
   "source": [
    "#Ax,Ay,MA=IDfoot(Rx,Ry,theta_f,alpha_f,afx,afy,mf,lf,lcf,Icf,n)"
   ]
  },
  {
   "cell_type": "markdown",
   "metadata": {},
   "source": [
    "Consider the shank"
   ]
  },
  {
   "cell_type": "markdown",
   "metadata": {},
   "source": [
    "*add FBD of shank*"
   ]
  },
  {
   "cell_type": "markdown",
   "metadata": {},
   "source": [
    "*add kinetic diagram*"
   ]
  },
  {
   "cell_type": "code",
   "execution_count": 16,
   "metadata": {},
   "outputs": [],
   "source": [
    "#Kx,Ky,Mk=IDlimb(Ax,Ay,MA,theta_s,alpha_s,ms,Is,ls,lcs,asx,asy,n)"
   ]
  },
  {
   "cell_type": "markdown",
   "metadata": {},
   "source": [
    "consider the thigh"
   ]
  },
  {
   "cell_type": "markdown",
   "metadata": {},
   "source": [
    "*add FBD of thigh*"
   ]
  },
  {
   "cell_type": "markdown",
   "metadata": {},
   "source": [
    "*add kinetic diagram*"
   ]
  },
  {
   "cell_type": "code",
   "execution_count": 17,
   "metadata": {},
   "outputs": [],
   "source": [
    "#Hx,Hy,Mh=IDlimb(Kx,Ky,Mk,theta_t,alpha_t,mt,It,lt,lct,atx,aty,n)"
   ]
  },
  {
   "cell_type": "code",
   "execution_count": 18,
   "metadata": {},
   "outputs": [],
   "source": [
    "#filter the Joint forces and moments"
   ]
  },
  {
   "cell_type": "code",
   "execution_count": null,
   "metadata": {},
   "outputs": [],
   "source": []
  }
 ],
 "metadata": {
  "kernelspec": {
   "display_name": "Python 3",
   "language": "python",
   "name": "python3"
  },
  "language_info": {
   "codemirror_mode": {
    "name": "ipython",
    "version": 3
   },
   "file_extension": ".py",
   "mimetype": "text/x-python",
   "name": "python",
   "nbconvert_exporter": "python",
   "pygments_lexer": "ipython3",
   "version": "3.6.5"
  }
 },
 "nbformat": 4,
 "nbformat_minor": 2
}
