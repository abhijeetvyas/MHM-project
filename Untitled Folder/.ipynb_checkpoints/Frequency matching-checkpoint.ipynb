{
 "cells": [
  {
   "cell_type": "code",
   "execution_count": 208,
   "metadata": {},
   "outputs": [],
   "source": [
    "import limb\n",
    "import pandas as pd\n",
    "import math\n",
    "import numpy as np\n",
    "import matplotlib\n",
    "import matplotlib.pyplot as plt"
   ]
  },
  {
   "cell_type": "code",
   "execution_count": 209,
   "metadata": {},
   "outputs": [],
   "source": [
    "jumpdata=pd.read_csv('jumpdata.csv', sep=',')\n",
    "fpdata=pd.read_csv('fpdata.csv',sep=',')"
   ]
  },
  {
   "cell_type": "code",
   "execution_count": 210,
   "metadata": {},
   "outputs": [],
   "source": [
    "timej=jumpdata.loc[:,\"TIME\"]\n",
    "M000X=jumpdata.loc[:,\"M000X\"]\n",
    "M000Y=jumpdata.loc[:,\"M000Y\"]\n",
    "M000Z=jumpdata.loc[:,\"M000Z\"]\n",
    "M001X=jumpdata.loc[:,\"M001X\"]\n",
    "M001Y=jumpdata.loc[:,\"M001Y\"]\n",
    "M001Z=jumpdata.loc[:,\"M001Z\"]\n",
    "M002X=jumpdata.loc[:,\"M002X\"]\n",
    "M002Y=jumpdata.loc[:,\"M002Y\"]\n",
    "M002Z=jumpdata.loc[:,\"M002Z\"]\n",
    "M003X=jumpdata.loc[:,\"M003X\"]\n",
    "M003Y=jumpdata.loc[:,\"M003Y\"]\n",
    "M003Z=jumpdata.loc[:,\"M003Z\"]\n",
    "M004X=jumpdata.loc[:,\"M004X\"]\n",
    "M004Y=jumpdata.loc[:,\"M004Y\"]\n",
    "M004Z=jumpdata.loc[:,\"M004Z\"]\n",
    "M005X=jumpdata.loc[:,\"M005X\"]\n",
    "M005Y=jumpdata.loc[:,\"M005Y\"]\n",
    "M005Z=jumpdata.loc[:,\"M005Z\"]\n",
    "M006X=jumpdata.loc[:,\"M006X\"]\n",
    "M006Y=jumpdata.loc[:,\"M006Y\"]\n",
    "M006Z=jumpdata.loc[:,\"M006Z\"]"
   ]
  },
  {
   "cell_type": "code",
   "execution_count": 211,
   "metadata": {},
   "outputs": [],
   "source": [
    "timef=fpdata.loc[:,\"Time\"]\n",
    "F_x=fpdata.loc[:,\"Fx\"]\n",
    "F_y=fpdata.loc[:,\"Fy\"]\n",
    "F_z=fpdata.loc[:,\"Fz\"]\n",
    "M_x=fpdata.loc[:,\"Mx\"]\n",
    "M_y=fpdata.loc[:,\"My\"]\n",
    "M_z=fpdata.loc[:,\"Mz\"]\n",
    "CoP_x=fpdata.loc[:,\"CoPx\"]\n",
    "CoP_y=fpdata.loc[:,\"CoPy\"]"
   ]
  },
  {
   "cell_type": "code",
   "execution_count": 212,
   "metadata": {},
   "outputs": [],
   "source": [
    "Fx = []\n",
    "Fy = []\n",
    "Fz = []\n",
    "Mx = []\n",
    "My = []\n",
    "Mz = []\n",
    "CoPx = []\n",
    "CoPy = []"
   ]
  },
  {
   "cell_type": "code",
   "execution_count": 213,
   "metadata": {},
   "outputs": [],
   "source": [
    "for i in range(874):\n",
    "    Fx.append(((int(1000*timej[i])+1-1000*timej[i])*F_x[int(1000*timej[i])]+(-int(1000*timej[i])+1000*timej[i])*F_x[int(1000*timej[i])+1]))\n",
    "    Fy.append(((int(1000*timej[i])+1-1000*timej[i])*F_y[int(1000*timej[i])]+(-int(1000*timej[i])+1000*timej[i])*F_y[int(1000*timej[i])+1]))\n",
    "    Fz.append(((int(1000*timej[i])+1-1000*timej[i])*F_z[int(1000*timej[i])]+(-int(1000*timej[i])+1000*timej[i])*F_z[int(1000*timej[i])+1]))\n",
    "    Mx.append(((int(1000*timej[i])+1-1000*timej[i])*M_x[int(1000*timej[i])]+(-int(1000*timej[i])+1000*timej[i])*M_x[int(1000*timej[i])+1]))\n",
    "    My.append(((int(1000*timej[i])+1-1000*timej[i])*M_y[int(1000*timej[i])]+(-int(1000*timej[i])+1000*timej[i])*M_y[int(1000*timej[i])+1]))\n",
    "    Mz.append(((int(1000*timej[i])+1-1000*timej[i])*M_z[int(1000*timej[i])]+(-int(1000*timej[i])+1000*timej[i])*M_z[int(1000*timej[i])+1]))\n",
    "    CoPx.append(((int(1000*timej[i])+1-1000*timej[i])*CoP_x[int(1000*timej[i])]+(-int(1000*timej[i])+1000*timej[i])*CoP_x[int(1000*timej[i])+1]))\n",
    "    CoPy.append(((int(1000*timej[i])+1-1000*timej[i])*CoP_y[int(1000*timej[i])]+(-int(1000*timej[i])+1000*timej[i])*CoP_y[int(1000*timej[i])+1]))\n"
   ]
  },
  {
   "cell_type": "code",
   "execution_count": 214,
   "metadata": {},
   "outputs": [],
   "source": [
    "d = {'TIME': timej, 'Fx': Fx, 'Fy': Fy, 'Fz': Fz, 'Mx': Mx, 'My': My, 'Mz': Mz, 'CoPx': CoPx, 'CoPy': CoPy}\n",
    "df = pd.DataFrame(data=d)\n",
    "df.to_csv('test1.csv')"
   ]
  }
 ],
 "metadata": {
  "kernelspec": {
   "display_name": "Python 3",
   "language": "python",
   "name": "python3"
  },
  "language_info": {
   "codemirror_mode": {
    "name": "ipython",
    "version": 3
   },
   "file_extension": ".py",
   "mimetype": "text/x-python",
   "name": "python",
   "nbconvert_exporter": "python",
   "pygments_lexer": "ipython3",
   "version": "3.6.5"
  }
 },
 "nbformat": 4,
 "nbformat_minor": 2
}
