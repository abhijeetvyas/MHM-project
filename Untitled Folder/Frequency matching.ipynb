{
 "cells": [
  {
   "cell_type": "code",
   "execution_count": 1,
   "metadata": {},
   "outputs": [],
   "source": [
    "import limb\n",
    "import pandas as pd\n",
    "import math\n",
    "import numpy as np\n",
    "import matplotlib\n",
    "import matplotlib.pyplot as plt"
   ]
  },
  {
   "cell_type": "code",
   "execution_count": 2,
   "metadata": {},
   "outputs": [],
   "source": [
    "jumpdata=pd.read_csv('h2 final.csv', sep=',')\n",
    "fpdata=pd.read_csv('h2 final fp.csv',sep=',')"
   ]
  },
  {
   "cell_type": "code",
   "execution_count": 4,
   "metadata": {},
   "outputs": [],
   "source": [
    "timej=jumpdata.loc[:,\"Time\"]\n",
    "M000X=jumpdata.loc[:,\"M024x\"]\n",
    "M000Y=jumpdata.loc[:,\"M024y\"]\n",
    "M000Z=jumpdata.loc[:,\"M024z\"]\n",
    "M001X=jumpdata.loc[:,\"M025x\"]\n",
    "M001Y=jumpdata.loc[:,\"M025y\"]\n",
    "M001Z=jumpdata.loc[:,\"M025z\"]\n",
    "M002X=jumpdata.loc[:,\"M026x\"]\n",
    "M002Y=jumpdata.loc[:,\"M026y\"]\n",
    "M002Z=jumpdata.loc[:,\"M026z\"]\n",
    "M003X=jumpdata.loc[:,\"M027x\"]\n",
    "M003Y=jumpdata.loc[:,\"M027y\"]\n",
    "M003Z=jumpdata.loc[:,\"M027z\"]\n",
    "M004X=jumpdata.loc[:,\"M028x\"]\n",
    "M004Y=jumpdata.loc[:,\"M028y\"]\n",
    "M004Z=jumpdata.loc[:,\"M028z\"]\n",
    "M005X=jumpdata.loc[:,\"M029x\"]\n",
    "M005Y=jumpdata.loc[:,\"M029y\"]\n",
    "M005Z=jumpdata.loc[:,\"M029z\"]\n",
    "M006X=jumpdata.loc[:,\"M030x\"]\n",
    "M006Y=jumpdata.loc[:,\"M030y\"]\n",
    "M006Z=jumpdata.loc[:,\"M030z\"]"
   ]
  },
  {
   "cell_type": "code",
   "execution_count": 5,
   "metadata": {},
   "outputs": [],
   "source": [
    "timef=fpdata.loc[:,\"Time\"]\n",
    "F_x=fpdata.loc[:,\"Fx\"]\n",
    "F_y=fpdata.loc[:,\"Fy\"]\n",
    "F_z=fpdata.loc[:,\"Fz\"]\n",
    "M_x=fpdata.loc[:,\"Mx\"]\n",
    "M_y=fpdata.loc[:,\"My\"]\n",
    "M_z=fpdata.loc[:,\"Mz\"]\n",
    "CoP_x=fpdata.loc[:,\"CoPx\"]\n",
    "CoP_y=fpdata.loc[:,\"CoPy\"]"
   ]
  },
  {
   "cell_type": "code",
   "execution_count": 6,
   "metadata": {},
   "outputs": [],
   "source": [
    "Fx = []\n",
    "Fy = []\n",
    "Fz = []\n",
    "Mx = []\n",
    "My = []\n",
    "Mz = []\n",
    "CoPx = []\n",
    "CoPy = []"
   ]
  },
  {
   "cell_type": "code",
   "execution_count": 7,
   "metadata": {},
   "outputs": [],
   "source": [
    "for i in range(len(timej)):\n",
    "    Fx.append(((int(1000*timej[i])+1-1000*timej[i])*F_x[int(1000*timej[i])]+(-int(1000*timej[i])+1000*timej[i])*F_x[int(1000*timej[i])+1]))\n",
    "    Fy.append(((int(1000*timej[i])+1-1000*timej[i])*F_y[int(1000*timej[i])]+(-int(1000*timej[i])+1000*timej[i])*F_y[int(1000*timej[i])+1]))\n",
    "    Fz.append(((int(1000*timej[i])+1-1000*timej[i])*F_z[int(1000*timej[i])]+(-int(1000*timej[i])+1000*timej[i])*F_z[int(1000*timej[i])+1]))\n",
    "    Mx.append(((int(1000*timej[i])+1-1000*timej[i])*M_x[int(1000*timej[i])]+(-int(1000*timej[i])+1000*timej[i])*M_x[int(1000*timej[i])+1]))\n",
    "    My.append(((int(1000*timej[i])+1-1000*timej[i])*M_y[int(1000*timej[i])]+(-int(1000*timej[i])+1000*timej[i])*M_y[int(1000*timej[i])+1]))\n",
    "    Mz.append(((int(1000*timej[i])+1-1000*timej[i])*M_z[int(1000*timej[i])]+(-int(1000*timej[i])+1000*timej[i])*M_z[int(1000*timej[i])+1]))\n",
    "    CoPx.append(((int(1000*timej[i])+1-1000*timej[i])*CoP_x[int(1000*timej[i])]+(-int(1000*timej[i])+1000*timej[i])*CoP_x[int(1000*timej[i])+1]))\n",
    "    CoPy.append(((int(1000*timej[i])+1-1000*timej[i])*CoP_y[int(1000*timej[i])]+(-int(1000*timej[i])+1000*timej[i])*CoP_y[int(1000*timej[i])+1]))\n"
   ]
  },
  {
   "cell_type": "code",
   "execution_count": 9,
   "metadata": {},
   "outputs": [],
   "source": [
    "d = {'TIME': timej, 'Fx': Fx, 'Fy': Fy, 'Fz': Fz, 'Mx': Mx, 'My': My, 'Mz': Mz, 'CoPx': CoPx, 'CoPy': CoPy}\n",
    "df = pd.DataFrame(data=d)\n",
    "df.to_csv('h2 ffinal.csv')"
   ]
  },
  {
   "cell_type": "code",
   "execution_count": null,
   "metadata": {},
   "outputs": [],
   "source": []
  }
 ],
 "metadata": {
  "kernelspec": {
   "display_name": "Python 3",
   "language": "python",
   "name": "python3"
  },
  "language_info": {
   "codemirror_mode": {
    "name": "ipython",
    "version": 3
   },
   "file_extension": ".py",
   "mimetype": "text/x-python",
   "name": "python",
   "nbconvert_exporter": "python",
   "pygments_lexer": "ipython3",
   "version": "3.6.5"
  }
 },
 "nbformat": 4,
 "nbformat_minor": 2
}
