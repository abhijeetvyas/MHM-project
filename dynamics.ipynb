{
 "cells": [
  {
   "cell_type": "code",
   "execution_count": 5,
   "metadata": {},
   "outputs": [],
   "source": [
    "import math\n",
    "import numpy as np\n",
    "import matplotlib\n",
    "import matplotlib.pyplot as plt"
   ]
  },
  {
   "cell_type": "code",
   "execution_count": 1,
   "metadata": {},
   "outputs": [],
   "source": [
    "def filterdata(x,y,n):\n",
    "    from scipy.signal import filtfilt\n",
    "    # the larger n is, the smoother curve will be\n",
    "    b = [1.0 / n] * n\n",
    "    a = 1\n",
    "    yy = filtfilt(b,a,y)\n",
    "    plt.plot(x, yy, linewidth=2, linestyle=\"-\", c=\"b\")\n",
    "    plt.plot(x,y,linewidth=2, linestyle=\"-\", c=\"r\")\n",
    "    return yy;"
   ]
  },
  {
   "cell_type": "code",
   "execution_count": 2,
   "metadata": {},
   "outputs": [],
   "source": [
    "def IDlimb(Ax,Ay,MA,theta_s,alpha_s,ms,Is,ls,lcs,ax,ay,n):\n",
    "    for i in range(1,n):\n",
    "        Kx[i]=Ax(i)+ms*ax(i);\n",
    "        Ky[i]=Ay(i)+ms*ay(i)+ms*9.81;\n",
    "        Mk[i]=MA(i)+Ax(i)*ls*sin(theta_s(i))-Ay(i)*ls*Cos(theta_s(i))-ms*9.81*lcs*Cos(theta_s(i))+(Is+ms*lcs^2)*alpha_s(i);\n",
    "    return Kx,Ky,Mk"
   ]
  },
  {
   "cell_type": "code",
   "execution_count": 3,
   "metadata": {},
   "outputs": [],
   "source": [
    "def IDfoot(F1x,F1y,theta,aplha,ax,ay,m,l,lc,I,n):\n",
    "    for i in range(1,n):\n",
    "        F2x[i]=m*ax[i]-F1x[1]\n",
    "        F2y[i]=m*9.81+m*ay[1]-F1y[1]\n",
    "        M2[i]=(I+m*lc*lc)*aplha[i]+F1y[i]*cos(theta[i])*l-F1x[i]*sin(theta[i])*l+m*9.81*cos(theta[i])*(l-lc)\n",
    "    return F2x,F2y,M2"
   ]
  },
  {
   "cell_type": "code",
   "execution_count": 6,
   "metadata": {},
   "outputs": [],
   "source": [
    "def jointangle(pt1x,pt1y,pt2x,pt2y,pt3x,pt3y,n):\n",
    "    for i in range(0,n):\n",
    "        m1[i]=(pt2y[i]-pt1y[i])/(pt2x[i]-pt1x[i])\n",
    "        m2[i]=(pt3y[i]-pt1y[i])/(pt3x[i]-pt1x[i])\n",
    "        angle[i]=atan((m2[i]-m1[i])/(1+m1[i]*m2[i]))\n",
    "    return angle"
   ]
  },
  {
   "cell_type": "code",
   "execution_count": 8,
   "metadata": {},
   "outputs": [],
   "source": [
    "def angularaccel(w1,n,sampling_time):         #j1 is joint angle dataframe #n is number of datapoints \n",
    "    for i in range(1,n-2):\n",
    "        ang_vel[i-1] = (w1[i+1,0]-w1[i-1,0])/(2* sampling_time)\n",
    "    return ang_vel"
   ]
  },
  {
   "cell_type": "code",
   "execution_count": 9,
   "metadata": {},
   "outputs": [],
   "source": [
    "def angularvel(j1,n,sampling_time):         #j1 is joint angle dataframe #n is number of datapoints \n",
    "    for i in range(1,n-2):\n",
    "        ang_vel[i-1] = (j1[i+1,0]-j1[i-1,0])/(2* sampling_time)\n",
    "    return ang_vel"
   ]
  },
  {
   "cell_type": "code",
   "execution_count": 10,
   "metadata": {},
   "outputs": [],
   "source": [
    "def acceleration(l,lc,aplha,omega,theta,n):\n",
    "    r=l-lc\n",
    "    for i in range(1,n):\n",
    "        ax[i]=-(r*alpha[i]*sin(theta[i])+omega[i]*omega[i]*r*cos(theta[i]))\n",
    "        ay[i]=r*alpha[i]*cos(theta[i])-omega[i]*omega[i]*r*sin(theta[i])\n",
    "    return [ax,ay]"
   ]
  },
  {
   "cell_type": "code",
   "execution_count": 11,
   "metadata": {},
   "outputs": [],
   "source": [
    "def absangle(pt1x,pt1y,pt2x,pt2y,n):\n",
    "    for i in range(0,n):\n",
    "        angle[i]=atan(pt2y[i]-pt1y[i])/(pt2x[i]-pt1x[i])\n",
    "    return angle"
   ]
  },
  {
   "cell_type": "code",
   "execution_count": null,
   "metadata": {},
   "outputs": [],
   "source": []
  }
 ],
 "metadata": {
  "kernelspec": {
   "display_name": "Python 3",
   "language": "python",
   "name": "python3"
  },
  "language_info": {
   "codemirror_mode": {
    "name": "ipython",
    "version": 3
   },
   "file_extension": ".py",
   "mimetype": "text/x-python",
   "name": "python",
   "nbconvert_exporter": "python",
   "pygments_lexer": "ipython3",
   "version": "3.6.5"
  }
 },
 "nbformat": 4,
 "nbformat_minor": 2
}
