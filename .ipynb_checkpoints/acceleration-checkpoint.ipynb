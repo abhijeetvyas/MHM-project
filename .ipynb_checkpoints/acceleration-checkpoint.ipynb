{
 "cells": [
  {
   "cell_type": "code",
   "execution_count": null,
   "metadata": {},
   "outputs": [],
   "source": [
    "def acceleration(l,lc,aplha,omega,theta,n):\n",
    "    r=l-lc\n",
    "    for i in range(1,n):\n",
    "        ax[i]=-(r*alpha[i]*sin(theta[i])+omega[i]*omega[i]*r*cos(theta[i]))\n",
    "        ay[i]=r*alpha[i]*cos(theta[i])-omega[i]*omega[i]*r*sin(theta[i])\n",
    "    return [ax,ay]\n"
   ]
  }
 ],
 "metadata": {
  "kernelspec": {
   "display_name": "Python 3",
   "language": "python",
   "name": "python3"
  },
  "language_info": {
   "codemirror_mode": {
    "name": "ipython",
    "version": 3
   },
   "file_extension": ".py",
   "mimetype": "text/x-python",
   "name": "python",
   "nbconvert_exporter": "python",
   "pygments_lexer": "ipython3",
   "version": "3.6.5"
  }
 },
 "nbformat": 4,
 "nbformat_minor": 2
}
