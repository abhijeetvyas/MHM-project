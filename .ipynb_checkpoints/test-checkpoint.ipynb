{
 "cells": [
  {
   "cell_type": "code",
   "execution_count": 12,
   "metadata": {
    "slideshow": {
     "slide_type": "slide"
    }
   },
   "outputs": [
    {
     "data": {
      "image/png": "[encoded data removed]",
      "text/plain": [
       "<Figure size 432x288 with 1 Axes>"
      ]
     },
     "metadata": {},
     "output_type": "display_data"
    }
   ],
   "source": [
    "import matplotlib.pyplot as plt\n",
    "import matplotlib.animation\n",
    "import numpy as np\n",
    "\n",
    "x = list(range(0, 5))\n",
    "y = [[2.00000000e-01,   2.00000000e-01,   2.75495888e-02,\n",
    "     1.40100625e-02,   2.00000000e-01],   [1.40100625e-02,\n",
    "     3.85989938e-01,   6.20454173e-03,   1.74945474e-03,\n",
    "     2.00000000e-01],   [1.74945474e-03,   3.98250545e-01,\n",
    "     1.24956950e-03,   2.30229281e-04,   2.00000000e-01], \n",
    "     [2.30229281e-04,   3.99769771e-01,   2.26476892e-04,\n",
    "     3.05018276e-05,   2.00000000e-01],   [3.05018276e-05,\n",
    "     3.99969498e-01,   3.82455658e-05,   4.04459287e-06,\n",
    "     2.00000000e-01]]\n",
    "\n",
    "fig, ax = plt.subplots()\n",
    "\n",
    "sc = ax.scatter(x,y[0])\n",
    "plt.ylim(-0.1,0.5)\n",
    "\n",
    "def animate(i):\n",
    "    sc.set_offsets(np.c_[x,y[i]])\n",
    "\n",
    "ani = matplotlib.animation.FuncAnimation(fig, animate, \n",
    "                frames=len(y), interval=300, repeat=True) \n",
    "\n",
    "plt.show()"
   ]
  },
  {
   "cell_type": "code",
   "execution_count": null,
   "metadata": {},
   "outputs": [],
   "source": []
  }
 ],
 "metadata": {
  "celltoolbar": "Slideshow",
  "kernelspec": {
   "display_name": "Python 3",
   "language": "python",
   "name": "python3"
  },
  "language_info": {
   "codemirror_mode": {
    "name": "ipython",
    "version": 3
   },
   "file_extension": ".py",
   "mimetype": "text/x-python",
   "name": "python",
   "nbconvert_exporter": "python",
   "pygments_lexer": "ipython3",
   "version": "3.6.5"
  }
 },
 "nbformat": 4,
 "nbformat_minor": 2
}
