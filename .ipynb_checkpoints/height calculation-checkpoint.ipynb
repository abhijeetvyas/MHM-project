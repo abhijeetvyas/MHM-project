{
 "cells": [
  {
   "cell_type": "code",
   "execution_count": 10,
   "metadata": {},
   "outputs": [],
   "source": [
    "import numpy as np\n",
    "from scipy.integrate import simps\n",
    "from numpy import trapz\n",
    "\n",
    "mass =54.5\n",
    "Weight = mass*9.81\n",
    "Ry[:]=Ry[:] - Weight\n",
    "\n",
    "momentum = trapz(Ry,dx=0.002)\n",
    "\n",
    "lift_vel=momentum/mass\n",
    "\n",
    "height=lift_vel*lift_vel/2/9.81"
   ]
  }
 ],
 "metadata": {
  "kernelspec": {
   "display_name": "Python 3",
   "language": "python",
   "name": "python3"
  },
  "language_info": {
   "codemirror_mode": {
    "name": "ipython",
    "version": 3
   },
   "file_extension": ".py",
   "mimetype": "text/x-python",
   "name": "python",
   "nbconvert_exporter": "python",
   "pygments_lexer": "ipython3",
   "version": "3.6.5"
  }
 },
 "nbformat": 4,
 "nbformat_minor": 2
}
