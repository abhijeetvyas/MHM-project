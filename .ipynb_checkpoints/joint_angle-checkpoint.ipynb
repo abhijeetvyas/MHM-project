{
 "cells": [
  {
   "cell_type": "code",
   "execution_count": 1,
   "metadata": {},
   "outputs": [],
   "source": [
    "def jointangle(pt1x,pt1y,pt2x,pt2y,pt3x,pt3y,n):\n",
    "    for i in range(0,n):\n",
    "        m1[i]=(pt2y[i]-pt1y[i])/(pt2x[i]-pt1x[i])\n",
    "        m2[i]=(pt3y[i]-pt1y[i])/(pt3x[i]-pt1x[i])\n",
    "        angle[i]=atan((m2[i]-m1[i])/(1+m1[i]*m2[i]))\n",
    "    return angle\n"
   ]
  },
  {
   "cell_type": "code",
   "execution_count": null,
   "metadata": {},
   "outputs": [],
   "source": []
  }
 ],
 "metadata": {
  "kernelspec": {
   "display_name": "Python 3",
   "language": "python",
   "name": "python3"
  },
  "language_info": {
   "codemirror_mode": {
    "name": "ipython",
    "version": 3
   },
   "file_extension": ".py",
   "mimetype": "text/x-python",
   "name": "python",
   "nbconvert_exporter": "python",
   "pygments_lexer": "ipython3",
   "version": "3.6.5"
  }
 },
 "nbformat": 4,
 "nbformat_minor": 2
}
