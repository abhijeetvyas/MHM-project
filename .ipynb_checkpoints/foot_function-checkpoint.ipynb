{
 "cells": [
  {
   "cell_type": "code",
   "execution_count": 1,
   "metadata": {},
   "outputs": [],
   "source": [
    "def foot(F1x,F1y,theta,aplha,ax,ay,m,l,lc,I,n):\n",
    "    for i in range(1,n):\n",
    "        F2x[i]=m*ax[i]-F1x[1]\n",
    "        F2y[i]=m*9.81+m*ay[1]-F1y[1]\n",
    "        M2[i]=(I+m*lc*lc)*aplha[i]+F1y[i]*cos(theta[i])*l-F1x[i]*sin(theta[i])*l+m*9.81*cos(theta[i])*lc\n",
    "    return [F2x,F2y,M2]\n",
    "    "
   ]
  },
  {
   "cell_type": "code",
   "execution_count": null,
   "metadata": {},
   "outputs": [],
   "source": []
  }
 ],
 "metadata": {
  "kernelspec": {
   "display_name": "Python 3",
   "language": "python",
   "name": "python3"
  },
  "language_info": {
   "codemirror_mode": {
    "name": "ipython",
    "version": 3
   },
   "file_extension": ".py",
   "mimetype": "text/x-python",
   "name": "python",
   "nbconvert_exporter": "python",
   "pygments_lexer": "ipython3",
   "version": "3.6.5"
  }
 },
 "nbformat": 4,
 "nbformat_minor": 2
}
