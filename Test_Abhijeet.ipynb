{
 "cells": [
  {
   "cell_type": "code",
   "execution_count": 1,
   "metadata": {},
   "outputs": [],
   "source": [
    "import pandas as pd \n",
    "import matplotlib\n",
    "import matplotlib.pyplot as plt\n",
    "from scipy.signal import filtfilt\n",
    "\n",
    "%matplotlib notebook\n",
    "from matplotlib import animation\n",
    "from matplotlib.animation import FuncAnimation\n",
    "import numpy as np\n",
    "\n",
    "\n",
    "df = pd.read_csv('Data set N1/Raw_gait_data_N1 set.csv')\n",
    "\n",
    "time = df.loc[:,\"TIME\"]\n",
    "\n",
    "ankle_x= df.loc[:,\"RIGHT ANKLE X\"]\n",
    "ankle_y= df.loc[:,\"RIGHT ANKLE Y\"]\n",
    "\n",
    "knee_x= df.loc[:,\"Right knee X\"]\n",
    "knee_y= df.loc[:,\"Right knee Y\"]\n",
    "\n",
    "hip_x= df.loc[:,\"Right hip X\"]\n",
    "hip_y= df.loc[:,\"Right hip Y\"]\n",
    "#k1=df.plot(x=\"TIME\",y=\"RIGHT ANKLE X\")\n",
    "#k2=df.plot(x=\"TIME\",y=\"RIGHT ANKLE Y\")\n",
    "\n",
    "n = 3# the larger n is, the smoother curve will be \n",
    "b = [1.0 / n] * n \n",
    "a = 1 \n",
    "\n",
    "ankle_y_filt = filtfilt(b,a,ankle_y) \n",
    "ankle_x_filt = filtfilt(b,a,ankle_x) \n",
    "\n",
    "knee_y_filt = filtfilt(b,a,knee_y) \n",
    "knee_x_filt = filtfilt(b,a,knee_x) \n",
    "\n",
    "hip_y_filt = filtfilt(b,a,hip_y) \n",
    "hip_x_filt = filtfilt(b,a,hip_x) \n",
    "\n",
    "#new_ankle_y=plt.plot(time,ankle_y_filt, linewidth=2, linestyle=\"-\", c=\"b\")\n",
    "#new_ankle_x=plt.plot(time,ankle_x_filt, linewidth=2, linestyle=\"-\", c=\"b\")\n",
    "#new_knee_y=plt.plot(time,knee_y_filt, linewidth=2, linestyle=\"-\", c=\"b\")\n",
    "#new_knee_x=plt.plot(time,knee_x_filt, linewidth=2, linestyle=\"-\", c=\"b\")\n",
    "#new_hip_y=plt.plot(time,hip_y_filt, linewidth=2, linestyle=\"-\", c=\"b\")\n",
    "#new_hip_x=plt.plot(time,hip_x_filt, linewidth=2, linestyle=\"-\", c=\"b\")"
   ]
  },
  {
   "cell_type": "code",
   "execution_count": null,
   "metadata": {},
   "outputs": [],
   "source": [
    "fig1=plt.figure()\n",
    "plt.axes(xlim=(0,275),ylim=(8,90))\n",
    "\n",
    "pt1, = plt.plot(ankle_x_filt[0], ankle_y_filt[0], 'ro')\n",
    "pt2, = plt.plot(knee_x_filt[0], knee_y_filt[0], 'ro')\n",
    "pt3, = plt.plot(hip_x_filt[0], hip_y_filt[0], 'ro')\n",
    "link1,= plt.plot([hip_x_filt[0], knee_x_filt[0] ],[hip_y_filt[0], knee_y_filt[0]],'bo-',animated=True)\n",
    "link2,= plt.plot([knee_x_filt[0], ankle_x_filt[0] ],[knee_y_filt[0], ankle_y_filt[0]],'bo-',animated=True)\n",
    "\n",
    "def init1():\n",
    "    pt1.set_data(ankle_x_filt[0], ankle_y_filt[0])\n",
    "    return pt1,\n",
    "\n",
    "def init2():\n",
    "    pt2.set_data(knee_x_filt[0], knee_y_filt[0])\n",
    "    return pt2,\n",
    "\n",
    "def init3():\n",
    "    pt3.set_data(hip_x_filt[0], hip_y_filt[0])\n",
    "    return pt3,\n",
    "\n",
    "def init4():\n",
    "    link1.set_data([hip_x_filt[0], knee_x_filt[0]],[hip_y_filt[0], knee_y_filt[0]])\n",
    "    return link1,\n",
    "\n",
    "def animate1(i):\n",
    "    x=ankle_x_filt[i]\n",
    "    y=ankle_y_filt[i]\n",
    "    pt1.set_data(x,y)\n",
    "    return pt1,\n",
    "\n",
    "def animate2(i):\n",
    "    x=knee_x_filt[i]\n",
    "    y=knee_y_filt[i]\n",
    "    pt2.set_data(x,y)\n",
    "    return pt2,\n",
    "\n",
    "def animate3(i):\n",
    "    x=hip_x_filt[i]\n",
    "    y=hip_y_filt[i]\n",
    "    pt3.set_data(x,y)\n",
    "    return pt3,\n",
    "\n",
    "def animate4(i):\n",
    "    x1=hip_x_filt[i]\n",
    "    y1=hip_y_filt[i]\n",
    "    x2=knee_x_filt[i]\n",
    "    y2=knee_y_filt[i]\n",
    "    link1.set_data([x1,x2],[y1,y2])\n",
    "    return link1,\n",
    "\n",
    "anim1 = animation.FuncAnimation(fig1, animate1, init_func=init1, frames=106, interval=100, blit=True)\n",
    "anim2 = animation.FuncAnimation(fig1, animate2, init_func=init2, frames=106, interval=100, blit=True)\n",
    "anim3 = animation.FuncAnimation(fig1, animate3, init_func=init3, frames=106, interval=100, blit=True)\n",
    "anim4 = animation.FuncAnimation(fig1, animate4, init_func=init4, frames=106, interval=100, blit=True)\n",
    "\n",
    "plt.show()"
   ]
  },
  {
   "cell_type": "code",
   "execution_count": null,
   "metadata": {},
   "outputs": [],
   "source": [
    "new_ankle=plt.plot(ankle_x_filt,ankle_y_filt, linewidth=2, linestyle=\"-\", c=\"b\")\n",
    "new_knee=plt.plot(knee_x_filt,knee_y_filt, linewidth=2, linestyle=\"-\", c=\"b\")\n",
    "new_hip=plt.plot(hip_x_filt,hip_y_filt, linewidth=2, linestyle=\"-\", c=\"b\")"
   ]
  },
  {
   "cell_type": "code",
   "execution_count": null,
   "metadata": {},
   "outputs": [],
   "source": [
    "fig1=plt.figure()\n",
    "plt.axes(xlim=(0,275),ylim=(8,90))\n",
    "\n",
    "link1,= plt.plot([hip_x_filt[0], knee_x_filt[0]],[hip_y_filt[0], knee_y_filt[0]],'bo-',animated=True)\n",
    "link2,= plt.plot([knee_x_filt[0], ankle_x_filt[0]],[knee_y_filt[0], ankle_y_filt[0]],'bo-',animated=True)\n",
    "\n",
    "def init4():\n",
    "    link1.set_data([hip_x_filt[0], knee_x_filt[0]],[hip_y_filt[0], knee_y_filt[0]])\n",
    "    return link1,\n",
    "\n",
    "def animate4(i):\n",
    "    x1=hip_x_filt[i]\n",
    "    y1=hip_y_filt[i]\n",
    "    x2=knee_x_filt[i]\n",
    "    y2=knee_y_filt[i]\n",
    "    link1.set_data([x1,x2],[y1,y2])\n",
    "    return link1,\n",
    "\n",
    "def init5():\n",
    "    link2.set_data([knee_x_filt[0],ankle_x_filt[0]],[knee_y_filt[0], ankle_y_filt[0]])\n",
    "    return link2,\n",
    "\n",
    "def animate5(i):\n",
    "    x1=knee_x_filt[i]\n",
    "    y1=knee_y_filt[i]\n",
    "    x2=ankle_x_filt[i]\n",
    "    y2=ankle_y_filt[i]\n",
    "    link2.set_data([x1,x2],[y1,y2])\n",
    "    return link2,\n",
    "\n",
    "\n",
    "anim4 = animation.FuncAnimation(fig1, animate4, init_func=init4, frames=106, interval=100, blit=True)\n",
    "anim5 = animation.FuncAnimation(fig1, animate5, init_func=init5, frames=106, interval=100, blit=True)\n",
    "\n",
    "plt.show()"
   ]
  },
  {
   "cell_type": "code",
   "execution_count": 2,
   "metadata": {},
   "outputs": [
    {
     "data": {
      "image/png": "[encoded data removed]",
      "text/plain": [
       "<Figure size 432x288 with 1 Axes>"
      ]
     },
     "metadata": {},
     "output_type": "display_data"
    }
   ],
   "source": [
    "plt.plot([hip_x_filt[0], knee_x_filt[0]],[hip_y_filt[0], knee_y_filt[0]],'bo-')\n",
    "plt.show()"
   ]
  },
  {
   "cell_type": "code",
   "execution_count": 4,
   "metadata": {},
   "outputs": [
    {
     "data": {
      "image/png": "[encoded data removed]",
      "text/plain": [
       "<Figure size 432x288 with 1 Axes>"
      ]
     },
     "metadata": {},
     "output_type": "display_data"
    }
   ],
   "source": [
    "import matplotlib.pyplot as plt\n",
    "import numpy as np\n",
    "from matplotlib.animation import FuncAnimation\n",
    "\n",
    "list_var_points = (1, 5, 4, 9, 8, 2, 6, 5, 2, 1, 9, 7, 10)\n",
    "\n",
    "fig, ax = plt.subplots()\n",
    "xfixdata, yfixdata = 14, 8\n",
    "xdata, ydata = 5, None\n",
    "ln, = plt.plot([], [], 'ro-', animated=True)\n",
    "plt.plot([xfixdata], [yfixdata], 'bo', ms=10)\n",
    "\n",
    "def init():\n",
    "    ax.set_xlim(0, 15)\n",
    "    ax.set_ylim(0, 15)\n",
    "    return ln,\n",
    "\n",
    "def update(frame):\n",
    "    ydata = list_var_points[frame]\n",
    "    ln.set_data([xfixdata,xdata], [yfixdata,ydata])\n",
    "    return ln,          \n",
    "\n",
    "\n",
    "ani = FuncAnimation(fig, update, frames=range(len(list_var_points)),\n",
    "            init_func=init, blit=True)\n",
    "plt.show()"
   ]
  },
  {
   "cell_type": "code",
   "execution_count": null,
   "metadata": {},
   "outputs": [],
   "source": []
  }
 ],
 "metadata": {
  "kernelspec": {
   "display_name": "Python 3",
   "language": "python",
   "name": "python3"
  },
  "language_info": {
   "codemirror_mode": {
    "name": "ipython",
    "version": 3
   },
   "file_extension": ".py",
   "mimetype": "text/x-python",
   "name": "python",
   "nbconvert_exporter": "python",
   "pygments_lexer": "ipython3",
   "version": "3.6.5"
  }
 },
 "nbformat": 4,
 "nbformat_minor": 2
}
